{
 "cells": [
  {
   "cell_type": "code",
   "execution_count": null,
   "metadata": {
    "application/vnd.databricks.v1+cell": {
     "cellMetadata": {},
     "inputWidgets": {},
     "nuid": "18a5c12b-aa41-4465-b189-353db4370f83",
     "showTitle": false,
     "title": ""
    }
   },
   "outputs": [],
   "source": [
    "%pip install dlt-meta"
   ]
  },
  {
   "cell_type": "code",
   "execution_count": null,
   "metadata": {},
   "outputs": [],
   "source": [
    "# Databricks notebook source\n",
    "# DBTITLE 1,DLT Snapshot Processing Logic\n",
    "import dlt\n",
    "from datetime import timedelta\n",
    "from datetime import datetime\n",
    "\n",
    "\n",
    "def exist(path):\n",
    "    try:\n",
    "        if dbutils.fs.ls(path) is None:\n",
    "            return False\n",
    "        else:\n",
    "            return True\n",
    "    except:\n",
    "        return False\n",
    "\n",
    "\n",
    "snapshot_root_path = \"path\" # read from dataflowspec source_details.path\n",
    "\n",
    "# List all objects in the bucket using dbutils.fs\n",
    "object_paths = dbutils.fs.ls(snapshot_root_path)\n",
    "\n",
    "datetimes = []\n",
    "for path in object_paths:\n",
    "    # Parse the datetime string to a datetime object\n",
    "    datetime_obj = datetime.strptime(path.name.strip('/\"'), '%Y-%m-%d %H')\n",
    "    datetimes.append(datetime_obj)\n",
    "\n",
    "# Find the earliest datetime\n",
    "earliest_datetime = min(datetimes)\n",
    "\n",
    "# Convert the earliest datetime back to a string if needed\n",
    "earliest_datetime_str = earliest_datetime.strftime('%Y-%m-%d %H')\n",
    "\n",
    "print(f\"The earliest datetime in the bucket is: {earliest_datetime_str}\")\n",
    "\n",
    "\n",
    "def next_snapshot_and_version(latest_snapshot_datetime):\n",
    "    latest_datetime_str = latest_snapshot_datetime or earliest_datetime_str\n",
    "    if latest_snapshot_datetime is None:\n",
    "        snapshot_path = f\"{snapshot_root_path}/{earliest_datetime_str}\"\n",
    "        print(f\"Reading earliest snapshot from {snapshot_path}\")\n",
    "        earliest_snapshot = spark.read.format(\"parquet\").load(snapshot_path)\n",
    "        return earliest_snapshot, earliest_datetime_str\n",
    "    else:\n",
    "        latest_datetime = datetime.strptime(latest_datetime_str, '%Y-%m-%d %H')\n",
    "        # Calculate the next datetime\n",
    "        increment = timedelta(hours=1)  # Increment by 1 hour because we are provided hourly snapshots\n",
    "        next_datetime = latest_datetime + increment\n",
    "        print(f\"The next snapshot version is : {next_datetime}\")\n",
    "\n",
    "        # Convert the next_datetime to a string with the desired format\n",
    "        next_snapshot_datetime_str = next_datetime.strftime('%Y-%m-%d %H')\n",
    "        snapshot_path = f\"{snapshot_root_path}/{next_snapshot_datetime_str}\"\n",
    "        print(\"Attempting to read next snapshot from \" + snapshot_path)\n",
    "\n",
    "        if (exist(snapshot_path)):\n",
    "            snapshot = spark.read.format(\"parquet\").load(snapshot_path)\n",
    "            return snapshot, next_snapshot_datetime_str\n",
    "        else:\n",
    "            print(f\"Couldn't find snapshot data at {snapshot_path}\")\n",
    "            return None"
   ]
  },
  {
   "cell_type": "code",
   "execution_count": null,
   "metadata": {
    "application/vnd.databricks.v1+cell": {
     "cellMetadata": {},
     "inputWidgets": {},
     "nuid": "de72e08f-5432-4e56-b17d-cadee25b4714",
     "showTitle": false,
     "title": ""
    }
   },
   "outputs": [],
   "source": [
    "layer = spark.conf.get(\"layer\", None)\n",
    "from src.dataflow_pipeline import DataflowPipeline\n",
    "DataflowPipeline.invoke_dlt_pipeline(spark, layer, snapshot_reader_func=next_snapshot_and_version)"
   ]
  }
 ],
 "metadata": {
  "application/vnd.databricks.v1+notebook": {
   "dashboards": [],
   "language": "python",
   "notebookMetadata": {
    "pythonIndentUnit": 2
   },
   "notebookName": "dlt_meta_pipeline",
   "notebookOrigID": 4156927443107021,
   "widgets": {}
  },
  "language_info": {
   "name": "python"
  }
 },
 "nbformat": 4,
 "nbformat_minor": 0
}
