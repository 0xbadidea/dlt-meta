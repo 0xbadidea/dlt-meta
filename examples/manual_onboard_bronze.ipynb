{
 "cells": [
  {
   "cell_type": "code",
   "execution_count": null,
   "metadata": {
    "application/vnd.databricks.v1+cell": {
     "cellMetadata": {},
     "inputWidgets": {},
     "nuid": "18a5c12b-aa41-4465-b189-353db4370f83",
     "showTitle": false,
     "title": ""
    }
   },
   "outputs": [],
   "source": [
    "%pip install dlt-meta"
   ]
  },
  {
   "cell_type": "code",
   "execution_count": null,
   "metadata": {
    "application/vnd.databricks.v1+cell": {
     "cellMetadata": {},
     "inputWidgets": {},
     "nuid": "de72e08f-5432-4e56-b17d-cadee25b4714",
     "showTitle": false,
     "title": ""
    }
   },
   "outputs": [],
   "source": [
    "onboarding_params_map = {\n",
    "\t\"database\": \"uc_name.dlt_demo\",\n",
    "\t\"onboarding_file_path\": \"dbfs:/onboarding_files/users_onboarding.json\",\n",
    "\t\"bronze_dataflowspec_table\": \"bronze_dataflowspec_table\", \n",
    "\t\"overwrite\": \"True\",\n",
    "\t\"env\": \"dev\",\n",
    "\t\"version\": \"v1\",\n",
    "\t\"import_author\": \"Ravi\"\n",
    "}\n",
    "\n",
    "from src.onboard_dataflowspec import OnboardDataflowspec\n",
    "OnboardDataflowspec(spark, onboarding_params_map, uc_enabled=True).onboard_bronze_dataflow_spec()\n"
   ]
  }
 ],
 "metadata": {
  "application/vnd.databricks.v1+notebook": {
   "dashboards": [],
   "language": "python",
   "notebookMetadata": {
    "pythonIndentUnit": 2
   },
   "notebookName": "dlt_meta_pipeline",
   "notebookOrigID": 4156927443107021,
   "widgets": {}
  },
  "language_info": {
   "name": "python"
  }
 },
 "nbformat": 4,
 "nbformat_minor": 0
}
