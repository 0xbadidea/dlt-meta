{
 "cells": [
  {
   "cell_type": "code",
   "execution_count": null,
   "metadata": {
    "application/vnd.databricks.v1+cell": {
     "cellMetadata": {},
     "inputWidgets": {},
     "nuid": "18a5c12b-aa41-4465-b189-353db4370f83",
     "showTitle": false,
     "title": ""
    }
   },
   "outputs": [],
   "source": [
    "%pip install dlt-meta"
   ]
  },
  {
   "cell_type": "code",
   "execution_count": null,
   "metadata": {
    "application/vnd.databricks.v1+cell": {
     "cellMetadata": {},
     "inputWidgets": {},
     "nuid": "de72e08f-5432-4e56-b17d-cadee25b4714",
     "showTitle": false,
     "title": ""
    }
   },
   "outputs": [],
   "source": [
    "onboarding_params_map = {\n",
    "    \"database\": \"uc_name.dlt_demo\",\n",
    "    \"onboarding_file_path\": \"dbfs:/onboarding_files/users_onboarding.json\",\n",
    "    \"bronze_dataflowspec_table\": \"bronze_dataflowspec_table\", \n",
    "    \"silver_dataflowspec_table\": \"silver_dataflowspec_table\",\n",
    "    \"overwrite\": \"True\",\n",
    "    \"env\": \"dev\",\n",
    "    \"version\": \"v1\",\n",
    "    \"import_author\": \"Ravi\"\n",
    "}\n",
    "\n",
    "from src.onboard_dataflowspec import OnboardDataflowspec\n",
    "OnboardDataflowspec(spark, onboarding_params_map, uc_enabled=True).onboard_dataflow_specs()\n"
   ]
  }
 ],
 "metadata": {
  "application/vnd.databricks.v1+notebook": {
   "dashboards": [],
   "language": "python",
   "notebookMetadata": {
    "pythonIndentUnit": 2
   },
   "notebookName": "dlt_meta_pipeline",
   "notebookOrigID": 4156927443107021,
   "widgets": {}
  },
  "language_info": {
   "name": "python"
  }
 },
 "nbformat": 4,
 "nbformat_minor": 0
}
